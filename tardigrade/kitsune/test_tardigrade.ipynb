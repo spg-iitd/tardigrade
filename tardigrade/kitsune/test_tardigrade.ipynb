{
 "cells": [
  {
   "cell_type": "code",
   "execution_count": 1,
   "metadata": {},
   "outputs": [
    {
     "name": "stdout",
     "output_type": "stream",
     "text": [
      "Importing Scapy Library\n"
     ]
    }
   ],
   "source": [
    "from kit_model import KitModel\n",
    "from kit_model_keyed import KeyedKitModel\n",
    "from utils import *\n",
    "import numpy as np\n",
    "import time"
   ]
  },
  {
   "cell_type": "code",
   "execution_count": null,
   "metadata": {},
   "outputs": [],
   "source": []
  }
 ],
 "metadata": {
  "kernelspec": {
   "display_name": "Python 3.8.16 ('py38')",
   "language": "python",
   "name": "python3"
  },
  "language_info": {
   "codemirror_mode": {
    "name": "ipython",
    "version": 3
   },
   "file_extension": ".py",
   "mimetype": "text/x-python",
   "name": "python",
   "nbconvert_exporter": "python",
   "pygments_lexer": "ipython3",
   "version": "3.8.16"
  },
  "orig_nbformat": 4,
  "vscode": {
   "interpreter": {
    "hash": "bfa34e6ecb9193e257a92200d1f4a3ff51e7ff9461cf484e797c34d9f01fad06"
   }
  }
 },
 "nbformat": 4,
 "nbformat_minor": 2
}
