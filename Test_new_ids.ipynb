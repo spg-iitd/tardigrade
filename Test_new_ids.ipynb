{
 "cells": [
  {
   "cell_type": "code",
   "execution_count": 18,
   "metadata": {},
   "outputs": [],
   "source": [
    "import os\n",
    "from tardigrade import KitsuneIDS\n",
    "from tardigrade.utils.metrics import *\n",
    "import numpy as np"
   ]
  },
  {
   "cell_type": "code",
   "execution_count": 19,
   "metadata": {},
   "outputs": [
    {
     "name": "stdout",
     "output_type": "stream",
     "text": [
      "parsing: tardigrade/ids/Data/weekday.pcap\n",
      "Reading PCAP file via Scapy...\n",
      "log_path: None\n"
     ]
    },
    {
     "name": "stderr",
     "output_type": "stream",
     "text": [
      "19989it [00:23, 939.11it/s]"
     ]
    },
    {
     "name": "stdout",
     "output_type": "stream",
     "text": [
      "EOF Reached\n",
      "\n"
     ]
    },
    {
     "name": "stderr",
     "output_type": "stream",
     "text": [
      "20000it [00:23, 849.95it/s]\n"
     ]
    },
    {
     "name": "stdout",
     "output_type": "stream",
     "text": [
      "skipped: 0\n",
      "written: 20000\n"
     ]
    }
   ],
   "source": [
    "\n",
    "benign_file = \"tardigrade/ids/Data/weekday\"\n",
    "benign_netstat = \"tardigrade/ids/Data/[Normal]Google_Home_Mini.pkl\"\n",
    " \n",
    "# Parsing of the data.\n",
    "model = KitsuneIDS(True)\n",
    "num_packets = model.feature_extractor(benign_file)"
   ]
  },
  {
   "cell_type": "code",
   "execution_count": 20,
   "metadata": {},
   "outputs": [
    {
     "name": "stdout",
     "output_type": "stream",
     "text": [
      "Feature-Mapper: train-mode, Anomaly-Detector: off-mode\n"
     ]
    },
    {
     "name": "stderr",
     "output_type": "stream",
     "text": [
      "2760it [00:00, 13434.16it/s]"
     ]
    },
    {
     "name": "stdout",
     "output_type": "stream",
     "text": [
      "The Feature-Mapper found a mapping: 100 features to 18 autoencoders.\n",
      "Feature-Mapper: execute-mode, Anomaly-Detector: train-mode\n"
     ]
    },
    {
     "name": "stderr",
     "output_type": "stream",
     "text": [
      "20000it [00:17, 1119.58it/s]\n"
     ]
    },
    {
     "name": "stdout",
     "output_type": "stream",
     "text": [
      "Feature-Mapper: execute-mode, Anomaly-Detector: execute-mode\n"
     ]
    },
    {
     "data": {
      "text/plain": [
       "0.27240345991264414"
      ]
     },
     "execution_count": 20,
     "metadata": {},
     "output_type": "execute_result"
    }
   ],
   "source": [
    " \n",
    "train_params = {\n",
    "    # the pcap, pcapng, or tsv file to process.\n",
    "    \"path\": benign_file + \".csv\",\n",
    "    \"packet_limit\": np.Inf,  # the number of packets to process,\n",
    " \n",
    "    # KitNET params:\n",
    "    # maximum size for any autoencoder in the ensemble layer\n",
    "    \"maxAE\": 10,\n",
    "    # the number of instances taken to learn the feature mapping (the ensemble's architecture)\n",
    "    \"FMgrace\": np.floor(0.2 * num_packets),\n",
    "    # the number of instances used to train the anomaly detector (ensemble itself)\n",
    "    # FMgrace+ADgrace<=num samples in normal traffic\n",
    "    \"ADgrace\": np.floor(0.8 * num_packets),\n",
    "    # directory of kitsune\n",
    "    # \"model_path\": kitsune_path,\n",
    "    # if normalize==true then kitsune does normalization automatically\n",
    "    \"normalize\": True\n",
    "}\n",
    " \n",
    "model.train_model(train_params)"
   ]
  },
  {
   "cell_type": "code",
   "execution_count": 22,
   "metadata": {},
   "outputs": [
    {
     "name": "stdout",
     "output_type": "stream",
     "text": [
      "parsing: tardigrade/ids/Data/Adv_Port_Scanning_SmartTV 1.pcap\n",
      "Reading PCAP file via Scapy...\n",
      "log_path: None\n"
     ]
    },
    {
     "name": "stderr",
     "output_type": "stream",
     "text": [
      "5949it [00:06, 917.32it/s]"
     ]
    },
    {
     "name": "stdout",
     "output_type": "stream",
     "text": [
      "EOF Reached\n",
      "\n"
     ]
    },
    {
     "name": "stderr",
     "output_type": "stream",
     "text": [
      "5953it [00:06, 913.21it/s]\n"
     ]
    },
    {
     "name": "stdout",
     "output_type": "stream",
     "text": [
      "skipped: 0\n",
      "written: 5953\n",
      "evaluting tardigrade/ids/Data/weekday.csv\n",
      "meta None\n",
      "kitsune model path  kitsune.pkl\n"
     ]
    },
    {
     "name": "stderr",
     "output_type": "stream",
     "text": [
      "0it [00:00, ?it/s]"
     ]
    },
    {
     "name": "stdout",
     "output_type": "stream",
     "text": [
      "Feature-Mapper: execute-mode, Anomaly-Detector: execute-mode\n"
     ]
    },
    {
     "name": "stderr",
     "output_type": "stream",
     "text": [
      "19900it [00:11, 1705.53it/s]"
     ]
    },
    {
     "name": "stdout",
     "output_type": "stream",
     "text": [
      "score saved to _kitsune_score.csv\n",
      "port scan examples over threshold: 166\n"
     ]
    },
    {
     "name": "stderr",
     "output_type": "stream",
     "text": [
      "20000it [00:11, 1687.77it/s]\n"
     ]
    },
    {
     "name": "stdout",
     "output_type": "stream",
     "text": [
      "evaluting tardigrade/ids/Data/Adv_Port_Scanning_SmartTV 1.csv\n",
      "meta None\n",
      "kitsune model path  kitsune.pkl\n"
     ]
    },
    {
     "name": "stderr",
     "output_type": "stream",
     "text": [
      "0it [00:00, ?it/s]"
     ]
    },
    {
     "name": "stdout",
     "output_type": "stream",
     "text": [
      "Feature-Mapper: execute-mode, Anomaly-Detector: execute-mode\n"
     ]
    },
    {
     "name": "stderr",
     "output_type": "stream",
     "text": [
      "5931it [00:03, 1675.88it/s]"
     ]
    },
    {
     "name": "stdout",
     "output_type": "stream",
     "text": [
      "score saved to _kitsune_score.csv\n",
      "port scan examples over threshold: 3742\n"
     ]
    },
    {
     "name": "stderr",
     "output_type": "stream",
     "text": [
      "5953it [00:03, 1655.04it/s]\n"
     ]
    },
    {
     "name": "stdout",
     "output_type": "stream",
     "text": [
      "plot path: tardigrade/ids/Data/Adv_Port_Scanning_SmartTV 1_kitsune_rmse.png\n",
      "Confusion Matrix: \n",
      "True Negatives:  0\n",
      "False Positives:  0\n",
      "False Negatives:  3908\n",
      "True Positives:  22045\n",
      "Precision:  1.0\n",
      "Recall:  0.8494201055754633\n",
      "F1 score:  0.9185799408308679\n"
     ]
    },
    {
     "name": "stderr",
     "output_type": "stream",
     "text": [
      "c:\\Python310\\lib\\site-packages\\sklearn\\metrics\\_ranking.py:1020: UndefinedMetricWarning: No negative samples in y_true, false positive value should be meaningless\n",
      "  warnings.warn(\n"
     ]
    },
    {
     "name": "stdout",
     "output_type": "stream",
     "text": [
      "False Positive Rate:  [nan nan nan]\n",
      "True Positive Rate:  [0.         0.84942011 1.        ]\n",
      "AUC Score:  nan\n",
      "ROC curve saved as roc_curve.png in the current directory.\n"
     ]
    }
   ],
   "source": [
    " \n",
    "malicious_traffic_plot = \"port_scan.png\"\n",
    "benign_traffic_plot = \"benign.png\"\n",
    " \n",
    " \n",
    "malicious_file = \"tardigrade/ids/Data/Adv_Port_Scanning_SmartTV 1\"\n",
    "model.feature_extractor(malicious_file)\n",
    " \n",
    "# malicious_file = \"tardigrade/ids/Data/port_scan_attack_only\"\n",
    "# kitsune_threshold = \"_kitsune_threshold.csv\"\n",
    " \n",
    "# benign_pos , kitsune_threshold = model.test_model(out_image=benign_traffic_plot,record_scores=True)\n",
    "score_array_b = model.test_model(benign_file , out_image=benign_traffic_plot,record_scores=True)\n",
    " \n",
    "score_array_m = model.test_model(malicious_file , out_image=malicious_traffic_plot,record_scores=True)\n",
    "rmse_array = score_array_b + score_array_m\n",
    "\n",
    "model.get_plot(rmse_array)\n",
    "model.eval_metrics(rmse_array)"
   ]
  },
  {
   "cell_type": "code",
   "execution_count": null,
   "metadata": {},
   "outputs": [],
   "source": []
  }
 ],
 "metadata": {
  "kernelspec": {
   "display_name": "Python 3",
   "language": "python",
   "name": "python3"
  },
  "language_info": {
   "codemirror_mode": {
    "name": "ipython",
    "version": 3
   },
   "file_extension": ".py",
   "mimetype": "text/x-python",
   "name": "python",
   "nbconvert_exporter": "python",
   "pygments_lexer": "ipython3",
   "version": "3.10.7"
  }
 },
 "nbformat": 4,
 "nbformat_minor": 2
}
